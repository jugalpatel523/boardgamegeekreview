{
 "cells": [
  {
   "cell_type": "markdown",
   "metadata": {},
   "source": [
    "# Term project Data Mining -CSE 5334\n",
    "# Name : Jugal Pareshbhai Patel\n",
    "# UTA ID : 1001769143"
   ]
  },
  {
   "cell_type": "markdown",
   "metadata": {},
   "source": [
    "# Main goal of the project \n",
    "\n",
    "***The main goal of the project is to build a classifier which can predict the rating (1-10) from the given reviews or comments.**"
   ]
  },
  {
   "cell_type": "markdown",
   "metadata": {},
   "source": [
    "# Abstract of the Project \n",
    "\n",
    "Here for prediction of rating from given reviews and comment we would compare  Naive Bayes classifier and Support Vector Machine (SVM) .Then after the comparision between these two classifiers , SVM gives better accuracy than Naive Bayes hands down .So now we will use linear SVM classifier for the prediction of ratings. The prediction rating would be in range of 1 - 10 . For Naive Bayes we have used Multinomial Naive Bayes algorithm among three naive bayes algorithm and for SVM we have used linear SVM classifier.\n",
    "\n",
    "Here are the steps done for achieving the goal of the project which is to predict the rating from given reviews and comments :\n",
    "1. Load the data from csv file using built in library which is pandas.\n",
    "2. Pre-Processing of data .\n",
    "3. Dividing dataset into three parts : Train data , Development data, Test data .\n",
    "4. Seperate the divided data into two parts : Comments and Ratings\n",
    "5. Vectorize comment for each divided data and convert the ratings to integer by using our custom function.\n",
    "6. Now we will use train data to train our SVM model and then we will predict the development and test accuracy.\n",
    "7. Now we will predict our rating for a single comment using trained SVM model.\n"
   ]
  },
  {
   "cell_type": "code",
   "execution_count": 2,
   "metadata": {
    "_cell_guid": "79c7e3d0-c299-4dcb-8224-4455121ee9b0",
    "_uuid": "d629ff2d2480ee46fbb7e2d37f6b5fab8052498a"
   },
   "outputs": [],
   "source": [
    "import re\n",
    "import bz2\n",
    "import pickle\n",
    "import _pickle as cPickle\n",
    "\n",
    "import pickle\n",
    "from sys import path\n",
    "from os.path import join\n",
    "\n",
    "import pandas as pd\n",
    "import numpy as np\n",
    "\n",
    "from sklearn.svm import LinearSVC\n",
    "from sklearn.metrics import accuracy_score\n",
    "from sklearn.naive_bayes import MultinomialNB\n",
    "from sklearn.neighbors import KNeighborsClassifier\n",
    "from sklearn.feature_extraction.text import TfidfVectorizer\n"
   ]
  },
  {
   "cell_type": "code",
   "execution_count": 3,
   "metadata": {},
   "outputs": [],
   "source": [
    "def loadAndProcessData(filePath):\n",
    "    data = pd.read_csv(filePath, usecols=['comment', 'rating'])\n",
    "    data = data.fillna('')\n",
    "    data = data.sample(frac=1).reset_index(drop=True)\n",
    "\n",
    "    tempList = list()\n",
    "    for d in data['comment']:\n",
    "        d = d.strip().lower()\n",
    "        #d = re.sub('[\\W_]+', '', d, flags = re.UNICODE)\n",
    "        tempList.append(d)\n",
    "    data['comment'] = tempList.copy()\n",
    "\n",
    "    tempList = list()\n",
    "    for d in data['comment']:\n",
    "        if d.islower():\n",
    "            tempList.append(d)\n",
    "        else:\n",
    "            tempList.append('')\n",
    "    data['comment'] = tempList.copy()\n",
    "\n",
    "    tempList = list()\n",
    "    for r in data['rating']:\n",
    "        r = float(r)\n",
    "        tempList.append(r)\n",
    "    data['rating'] = tempList.copy()\n",
    "\n",
    "    data = data[data['comment'].apply(lambda xyz: len(xyz) > 0)]\n",
    "    data = data[data['rating'].apply(lambda rate: float(rate) >= 1)]\n",
    "    data = data.sample(frac=1).reset_index(drop=True)\n",
    "\n",
    "    return data\n",
    "\n",
    "def getTrainData(data, n):\n",
    "    data = data.sample(frac=1).reset_index(drop=True)\n",
    "    lenOfData = data.shape[0]\n",
    "\n",
    "    endIndex = int(lenOfData * n)\n",
    "\n",
    "    trainSet = data[: endIndex]\n",
    "    otherSet = data[endIndex:]\n",
    "\n",
    "    trainSet = trainSet.sample(frac=1).reset_index(drop=True)\n",
    "    otherSet = otherSet.sample(frac=1).reset_index(drop=True)\n",
    "\n",
    "    return [trainSet, otherSet]\n",
    "\n",
    "def getDevAndTestData(data):\n",
    "    devSet, testSet = getTrainData(data, 0.5).copy()\n",
    "    \n",
    "    if devSet.shape[0] >= testSet.shape[0]:\n",
    "        return [devSet, testSet]\n",
    "    else:\n",
    "        return [testSet, devSet]\n",
    "    \n",
    "def generateFile(name, data):\n",
    "    with bz2.BZ2File(name + '.pbz2', 'w') as f:\n",
    "        cPickle.dump(data, f)\n",
    "    f.close()\n",
    "    \n",
    "def readFile(name):\n",
    "    with bz2.BZ2File(name, 'rb') as f:\n",
    "        data = cPickle.load(f)\n",
    "    f.close()\n",
    "    return data\n",
    "\n",
    "def getVectorizer(data):\n",
    "    vectorizer = TfidfVectorizer(ngram_range=(1, 2))\n",
    "    vectorizer.fit(data)\n",
    "    generateFile('vectorizer', vectorizer)\n",
    "    # vectorizerFile = open('vectorizer', 'ab')\n",
    "    # pickle.dump(vectorizer, vectorizerFile)\n",
    "    # vectorizerFile.close()\n",
    "\n",
    "    return vectorizer\n",
    "\n",
    "def vectorizeData(data, vectorizer):\n",
    "    data = vectorizer.transform(data)\n",
    "\n",
    "    return data\n",
    "\n",
    "def workOnRatings(ratings):\n",
    "    tempList = list()\n",
    "    for r in ratings:\n",
    "        if r%int(r) <= 0.5:\n",
    "            tempList.append(int(r))\n",
    "        else:\n",
    "            tempList.append(int(r + 1))\n",
    "\n",
    "    return np.asarray(tempList)\n",
    "\n",
    "\n",
    "def calAccuracy(actual, pred):\n",
    "    return accuracy_score(actual, pred)*100"
   ]
  },
  {
   "cell_type": "code",
   "execution_count": 4,
   "metadata": {},
   "outputs": [
    {
     "name": "stdout",
     "output_type": "stream",
     "text": [
      "         rating                                            comment\n",
      "0          10.0                brasil - jogo de xadrez tradicional\n",
      "1           2.0           the children like it but that's about it\n",
      "2          10.0  probably shouldn't have gotten rid of this, bu...\n",
      "3           7.5  quick, fun, light and friendly. excellent game...\n",
      "4           2.0  the only reason i didn’t give this one a “1” i...\n",
      "...         ...                                                ...\n",
      "2592850     7.0  a game that test your vocabulary and ability t...\n",
      "2592851     6.0  a nice light winston drafter. probably best at...\n",
      "2592852     6.0  good for it's day.........which was a long tim...\n",
      "2592853    10.0  i think a solitaire game system can't ever rea...\n",
      "2592854     8.0                               very dynamic and fun\n",
      "\n",
      "[2592855 rows x 2 columns]\n",
      "\n",
      "\n",
      " TRAIN DATASET:::\n",
      "\n",
      "         rating                                            comment\n",
      "0           9.0  my go-to for solo play. lots of strategy, frus...\n",
      "1           5.0  way too generic setting for such gorgeous mode...\n",
      "2           7.0                        no 3 of alea big bix series\n",
      "3           8.0  period: medievel reformation 1500's scale: str...\n",
      "4           7.5  love this game and its quite easy to teach. lo...\n",
      "...         ...                                                ...\n",
      "2463207     7.5                               only played 2 player\n",
      "2463208     6.0  the production quality is far superior to the ...\n",
      "2463209     7.0  i've played this a fair bit now and think it's...\n",
      "2463210     8.0  has improvements over the original -namely, th...\n",
      "2463211     8.0  loved playing this game.  took a lot of time t...\n",
      "\n",
      "[2463212 rows x 2 columns]\n",
      "\n",
      "\n",
      " DEVELOPEMENT DATASET:::\n",
      "\n",
      "       rating                                            comment\n",
      "0         8.0                                   ah! great times!\n",
      "1         7.5  a very short fun little card game. not much st...\n",
      "2         3.0  at first look it's just monopoly. then, you lo...\n",
      "3         7.0                                 nice abstract game\n",
      "4         8.0  this is such a wonderful game and relatively e...\n",
      "...       ...                                                ...\n",
      "64817     8.0  a scrabble type game, but with shapes and colo...\n",
      "64818     9.0          sold to scott for $65.00 at prez con 2011\n",
      "64819    10.0  really, really enjoyed this one.  an excellent...\n",
      "64820     6.0  ca is a pretty good game.  it reminds me a lot...\n",
      "64821     8.0  neat, (yet macabre) little card game with inte...\n",
      "\n",
      "[64822 rows x 2 columns]\n",
      "\n",
      "\n",
      " TEST DATASET:::\n",
      "       rating                                            comment\n",
      "0         5.4  for me this replaces that penguin eating fish ...\n",
      "1         9.5  includes: artisans of naqala, thieves of naqal...\n",
      "2         6.0  short game a bit too short to get anything goi...\n",
      "3         6.0  the \"snitch-problem\" is immediately evident af...\n",
      "4         5.0               it's the dark souls of deckbuilders.\n",
      "...       ...                                                ...\n",
      "64816     8.0  catan with flavor. the starfleet cards are a f...\n",
      "64817     7.0  fascinating game with very zen pieces. still l...\n",
      "64818     7.5  the same game as loopin louie, but with a less...\n",
      "64819     6.0  game is spent generating resources that go tow...\n",
      "64820     6.0  one play, with 5 players.  i found it interest...\n",
      "\n",
      "[64821 rows x 2 columns]\n",
      "Vectorizer file was not found... calling function\n"
     ]
    }
   ],
   "source": [
    "pathToFolder = join(path[0], '/kaggle/input/boardgamegeek-reviews')\n",
    "#/content/drive/My Drive/Colab Notebooks/boardgamegeek-reviews\n",
    "pathToFile = join(pathToFolder, 'bgg-13m-reviews.csv')\n",
    "\n",
    "data = loadAndProcessData(pathToFile)\n",
    "print(data)\n",
    "\n",
    "trainDataset, tempDataset = getTrainData(data, 0.95).copy()\n",
    "devDataset, testDataset = getDevAndTestData(tempDataset)\n",
    "\n",
    "print('\\n\\n TRAIN DATASET:::\\n')\n",
    "print(trainDataset)\n",
    "print('\\n\\n DEVELOPEMENT DATASET:::\\n')\n",
    "print(devDataset)\n",
    "print('\\n\\n TEST DATASET:::')\n",
    "print(testDataset)\n",
    "\n",
    "\n",
    "trainComments, trainRatings = [trainDataset['comment'], trainDataset['rating']].copy()\n",
    "devComments, devRatings = [devDataset['comment'], devDataset['rating']].copy()\n",
    "testComments, testRatings = [testDataset['comment'], testDataset['rating']].copy()\n",
    "\n",
    "try:\n",
    "  vectorizer = readFile('vectorizer.pbz2')\n",
    "  # vectorizeFile = open('vectorizer', 'rb')\n",
    "  # vectorizer = pickle.load(vectorizeFile)\n",
    "  print(\"Vectorizer read from file\")\n",
    "except (FileNotFoundError):\n",
    "  vectorizer = getVectorizer(trainComments)\n",
    "  print(\"Vectorizer file was not found... calling function\")\n",
    "\n",
    "\n",
    "trainComments, trainRatings = [vectorizeData(trainComments, vectorizer), workOnRatings(trainRatings)]\n",
    "devComments, devRatings = [vectorizeData(devComments, vectorizer), workOnRatings(devRatings)]\n",
    "testComments, testRatings = [vectorizeData(testComments, vectorizer), workOnRatings(testRatings)]\n",
    "\n",
    "\n"
   ]
  },
  {
   "cell_type": "markdown",
   "metadata": {},
   "source": [
    "# What is Naive Bayes?\n",
    "\n",
    "Naive Bayes classifier is based on Bayes’ theorem, which is: P(H | x) = P(H) P(x | H) / P(x) P(H|x) is the posterior probability of hypothesis (H or target) given predictor (x or attribute). P(H) is the prior probability of hypothesis P(x|H) is the likelihood which is the probability of predictor given hypothesis. P(x) is the prior probability of predictor. Naive Bayes extends Bayes’ theorem to handle multiple evidences by assuming that each evidence is independent.\n",
    "\n",
    "Applications of Naive Bayes Algorithm :\n",
    "\n",
    "* Real time prediction\n",
    "* Multi class prediction\n",
    "* Text Classification / Spam Filtering / Sentiment Analysis\n",
    "* Recommendation Systems\n",
    "\n",
    "There are 3 main types of Naive Bayes algorithms:\n",
    "\n",
    "* Gaussian Naive Bayes\n",
    "* Multinomial Naive Bayes\n",
    "* Bernoulli Naive Bayes\n",
    "\n",
    "For our prjoect we have used Multinomial Naive Bayes algorithm for comparision with SVM model."
   ]
  },
  {
   "cell_type": "code",
   "execution_count": 5,
   "metadata": {},
   "outputs": [
    {
     "data": {
      "text/plain": [
       "MultinomialNB(alpha=1, class_prior=None, fit_prior=True)"
      ]
     },
     "execution_count": 5,
     "metadata": {},
     "output_type": "execute_result"
    }
   ],
   "source": [
    "nbModel = MultinomialNB(alpha = 1)\n",
    "nbModel.fit(trainComments, trainRatings)"
   ]
  },
  {
   "cell_type": "code",
   "execution_count": 6,
   "metadata": {},
   "outputs": [
    {
     "name": "stdout",
     "output_type": "stream",
     "text": [
      "\n",
      "\n",
      "NB accuracy for train dataset: 32.25609\n",
      "NB accuracy for development dataset: 27.68196\n",
      "NB accuracy for test dataset(FINAL): 27.71633\n"
     ]
    }
   ],
   "source": [
    "nbTrainRatingsResults = nbModel.predict(trainComments)\n",
    "nbDevRatingsResults = nbModel.predict(devComments)\n",
    "nbTestRatingsResults = nbModel.predict(testComments)\n",
    "nbTrainAccuracy = calAccuracy(trainRatings, nbTrainRatingsResults)\n",
    "nbDevAccuracy = calAccuracy(devRatings, nbDevRatingsResults)\n",
    "nbTestAccuracy = calAccuracy(testRatings, nbTestRatingsResults)\n",
    "print(\"\\n\\nNB accuracy for train dataset: {:0.5f}\".format(nbTrainAccuracy))\n",
    "print(\"NB accuracy for development dataset: {:0.5f}\".format(nbDevAccuracy))\n",
    "print(\"NB accuracy for test dataset(FINAL): {:0.5f}\".format(nbTestAccuracy))"
   ]
  },
  {
   "cell_type": "markdown",
   "metadata": {},
   "source": [
    "# What is Support Vector Machine?\n",
    "\n",
    "The objective of the support vector machine algorithm is to find a hyperplane in an N-dimensional space(N — the number of features) that distinctly classifies the data points. To separate the two classes of data points, there are many possible hyperplanes that could be chosen. Our objective is to find a plane that has the maximum margin, i.e the maximum distance between data points of both classes. Maximizing the margin distance provides some reinforcement so that future data points can be classified with more confidence. Linear SVM is the newest extremely fast machine learning algorithm for solving multiclass classification problems from ultra large data sets.\n",
    "\n",
    "Advantages:\n",
    "\n",
    "* SVM works relatively well when there is clear margin of separation between classes.\n",
    "* SVM is more effective in high dimensional spaces.\n",
    "* SVM is effective in cases where number of dimensions is greater than the number of samples.\n",
    "* SVM is relatively memory efficient.\n",
    "\n",
    "**The consensus for ML researchers and practitioners in almost all cases ,the SVM is better than Naive Bayes.**"
   ]
  },
  {
   "cell_type": "markdown",
   "metadata": {},
   "source": [
    "# Hyperparameter Tuning:\n",
    "\n",
    "* Hyperparameter tuning is used to improve the accuracy of SVM classifier.\n",
    "* Here we have different regularization parameter (c) and we will use that to show relation between accuracy of SVM classifier and whichever c value gives better accuracy , we will select that for improvement in accuracy."
   ]
  },
  {
   "cell_type": "code",
   "execution_count": 7,
   "metadata": {},
   "outputs": [
    {
     "data": {
      "text/plain": [
       "LinearSVC(C=1.0, class_weight=None, dual=True, fit_intercept=True,\n",
       "          intercept_scaling=1, loss='squared_hinge', max_iter=1000,\n",
       "          multi_class='ovr', penalty='l2', random_state=None, tol=0.0001,\n",
       "          verbose=0)"
      ]
     },
     "execution_count": 7,
     "metadata": {},
     "output_type": "execute_result"
    }
   ],
   "source": [
    "#hyper....\n",
    "svmModel1 = LinearSVC(C = 0.1)\n",
    "svmModel1.fit(trainComments, trainRatings)\n",
    "svmModel3 = LinearSVC(C = 0.3)\n",
    "svmModel3.fit(trainComments, trainRatings)\n",
    "svmModel5 = LinearSVC(C = 0.5)\n",
    "svmModel5.fit(trainComments, trainRatings)\n",
    "svmModel7 = LinearSVC(C = 0.7)\n",
    "svmModel7.fit(trainComments, trainRatings)\n",
    "svmModel = LinearSVC()\n",
    "svmModel.fit(trainComments, trainRatings)"
   ]
  },
  {
   "cell_type": "markdown",
   "metadata": {},
   "source": [
    "# FOR C=0.1"
   ]
  },
  {
   "cell_type": "code",
   "execution_count": 8,
   "metadata": {},
   "outputs": [
    {
     "name": "stdout",
     "output_type": "stream",
     "text": [
      "\n",
      "\n",
      "SVM accuracy for train dataset: 57.62484\n",
      "SVM accuracy for development dataset: 34.83077\n",
      "SVM accuracy for test dataset(FINAL): 35.08585\n"
     ]
    }
   ],
   "source": [
    "svmTrainRatingsResults = svmModel1.predict(trainComments)\n",
    "svmDevRatingsResults = svmModel1.predict(devComments)\n",
    "svmTestRatingsResults = svmModel1.predict(testComments)\n",
    "svmTrainAccuracy = calAccuracy(trainRatings, svmTrainRatingsResults)\n",
    "svmDevAccuracy = calAccuracy(devRatings, svmDevRatingsResults)\n",
    "svmTestAccuracy = calAccuracy(testRatings, svmTestRatingsResults)\n",
    "print(\"\\n\\nSVM accuracy for train dataset: {:0.5f}\".format(svmTrainAccuracy))\n",
    "print(\"SVM accuracy for development dataset: {:0.5f}\".format(svmDevAccuracy))\n",
    "print(\"SVM accuracy for test dataset(FINAL): {:0.5f}\".format(svmTestAccuracy))"
   ]
  },
  {
   "cell_type": "markdown",
   "metadata": {},
   "source": [
    "# FOR C = 0.3"
   ]
  },
  {
   "cell_type": "code",
   "execution_count": 9,
   "metadata": {},
   "outputs": [
    {
     "name": "stdout",
     "output_type": "stream",
     "text": [
      "\n",
      "\n",
      "SVM accuracy for train dataset: 73.23945\n",
      "SVM accuracy for development dataset: 33.81877\n",
      "SVM accuracy for test dataset(FINAL): 34.56442\n"
     ]
    }
   ],
   "source": [
    "svmTrainRatingsResults = svmModel3.predict(trainComments)\n",
    "svmDevRatingsResults = svmModel3.predict(devComments)\n",
    "svmTestRatingsResults = svmModel3.predict(testComments)\n",
    "svmTrainAccuracy = calAccuracy(trainRatings, svmTrainRatingsResults)\n",
    "svmDevAccuracy = calAccuracy(devRatings, svmDevRatingsResults)\n",
    "svmTestAccuracy = calAccuracy(testRatings, svmTestRatingsResults)\n",
    "print(\"\\n\\nSVM accuracy for train dataset: {:0.5f}\".format(svmTrainAccuracy))\n",
    "print(\"SVM accuracy for development dataset: {:0.5f}\".format(svmDevAccuracy))\n",
    "print(\"SVM accuracy for test dataset(FINAL): {:0.5f}\".format(svmTestAccuracy))"
   ]
  },
  {
   "cell_type": "markdown",
   "metadata": {},
   "source": [
    "# FOR C= 0.5"
   ]
  },
  {
   "cell_type": "code",
   "execution_count": 10,
   "metadata": {},
   "outputs": [
    {
     "name": "stdout",
     "output_type": "stream",
     "text": [
      "\n",
      "\n",
      "SVM accuracy for train dataset: 79.15575\n",
      "SVM accuracy for development dataset: 33.07673\n",
      "SVM accuracy for test dataset(FINAL): 33.97356\n"
     ]
    }
   ],
   "source": [
    "svmTrainRatingsResults = svmModel5.predict(trainComments)\n",
    "svmDevRatingsResults = svmModel5.predict(devComments)\n",
    "svmTestRatingsResults = svmModel5.predict(testComments)\n",
    "svmTrainAccuracy = calAccuracy(trainRatings, svmTrainRatingsResults)\n",
    "svmDevAccuracy = calAccuracy(devRatings, svmDevRatingsResults)\n",
    "svmTestAccuracy = calAccuracy(testRatings, svmTestRatingsResults)\n",
    "print(\"\\n\\nSVM accuracy for train dataset: {:0.5f}\".format(svmTrainAccuracy))\n",
    "print(\"SVM accuracy for development dataset: {:0.5f}\".format(svmDevAccuracy))\n",
    "print(\"SVM accuracy for test dataset(FINAL): {:0.5f}\".format(svmTestAccuracy))"
   ]
  },
  {
   "cell_type": "markdown",
   "metadata": {},
   "source": [
    "# FOR C = 0.7"
   ]
  },
  {
   "cell_type": "code",
   "execution_count": 11,
   "metadata": {},
   "outputs": [
    {
     "name": "stdout",
     "output_type": "stream",
     "text": [
      "\n",
      "\n",
      "SVM accuracy for train dataset: 82.10747\n",
      "SVM accuracy for development dataset: 32.68335\n",
      "SVM accuracy for test dataset(FINAL): 33.53389\n"
     ]
    }
   ],
   "source": [
    "svmTrainRatingsResults = svmModel7.predict(trainComments)\n",
    "svmDevRatingsResults = svmModel7.predict(devComments)\n",
    "svmTestRatingsResults = svmModel7.predict(testComments)\n",
    "svmTrainAccuracy = calAccuracy(trainRatings, svmTrainRatingsResults)\n",
    "svmDevAccuracy = calAccuracy(devRatings, svmDevRatingsResults)\n",
    "svmTestAccuracy = calAccuracy(testRatings, svmTestRatingsResults)\n",
    "print(\"\\n\\nSVM accuracy for train dataset: {:0.5f}\".format(svmTrainAccuracy))\n",
    "print(\"SVM accuracy for development dataset: {:0.5f}\".format(svmDevAccuracy))\n",
    "print(\"SVM accuracy for test dataset(FINAL): {:0.5f}\".format(svmTestAccuracy))"
   ]
  },
  {
   "cell_type": "markdown",
   "metadata": {},
   "source": [
    "# FOR C = 1"
   ]
  },
  {
   "cell_type": "code",
   "execution_count": 12,
   "metadata": {},
   "outputs": [
    {
     "name": "stdout",
     "output_type": "stream",
     "text": [
      "\n",
      "\n",
      "SVM accuracy for train dataset: 84.45152\n",
      "SVM accuracy for development dataset: 32.19740\n",
      "SVM accuracy for test dataset(FINAL): 32.92143\n"
     ]
    }
   ],
   "source": [
    "svmTrainRatingsResults = svmModel.predict(trainComments)\n",
    "svmDevRatingsResults = svmModel.predict(devComments)\n",
    "svmTestRatingsResults = svmModel.predict(testComments)\n",
    "svmTrainAccuracy = calAccuracy(trainRatings, svmTrainRatingsResults)\n",
    "svmDevAccuracy = calAccuracy(devRatings, svmDevRatingsResults)\n",
    "svmTestAccuracy = calAccuracy(testRatings, svmTestRatingsResults)\n",
    "print(\"\\n\\nSVM accuracy for train dataset: {:0.5f}\".format(svmTrainAccuracy))\n",
    "print(\"SVM accuracy for development dataset: {:0.5f}\".format(svmDevAccuracy))\n",
    "print(\"SVM accuracy for test dataset(FINAL): {:0.5f}\".format(svmTestAccuracy))"
   ]
  },
  {
   "cell_type": "markdown",
   "metadata": {},
   "source": [
    "# So from above steps of hyper-parameter tuning we can see that SVM classifier model's final accuracy is better when c = 0.1 which is 35.08585 .\n",
    "\n",
    "# So we had got high perfomance in final accuracy which is better than Naive Bayes's accuracy and what that of if SVM would be on itself."
   ]
  },
  {
   "cell_type": "markdown",
   "metadata": {},
   "source": [
    "# CHALLENGES :\n",
    "\n",
    "* ****Dataset is much large which contains more than 13 million of data.\n",
    "* ****There were many empty reviews, white spaces , non-english words\n",
    "* ****The review data contains many data in float values which was effecting the final accuracy\n",
    "* ****Which classifier to select for the best accuracy and predict the rating**\n",
    "\n",
    "\n",
    "# Actions taken to overcome challenges :\n",
    "\n",
    "* ****Because of the large dataset we have divided the dataset into different parts.\n",
    "* ****Conversion of review data which contains float value into integer value.\n",
    "* ****From viewing the final accuracy of Multinomial Naive Bayes and SVM , I selected SVM classifier for prediction of ratings.  \n",
    "* ****We have used hyper-parameter tuning to improve the accuracy of SVM classifier."
   ]
  },
  {
   "cell_type": "markdown",
   "metadata": {},
   "source": [
    "# CONCLUSION :\n",
    "\n",
    "# The results shows that from Naive Bayes classifier and SVM classifier, the final accuracy of SVM classifier is way better than Naive Bayes classifier . So now will be using linear SVM classifier for achieving our goal for prediction of rating from given reviews. So from this we can say that for large text dataset after testing multiple times SVM model classifier is way better than other classifier model.\n",
    "\n",
    "# From default SVM's accuracy which was around 32 % we improved it to around 35 % , which is better than default SVM accuracy and Naive Bayes accuracy."
   ]
  },
  {
   "cell_type": "code",
   "execution_count": null,
   "metadata": {},
   "outputs": [],
   "source": [
    "try:\n",
    "  finalSVM = readFile('svmModel.pbz2')\n",
    "  # vectorizeFile = open('vectorizer', 'rb')\n",
    "  # vectorizer = pickle.load(vectorizeFile)\n",
    "  print(\"Model read from file\")\n",
    "except (FileNotFoundError):\n",
    "  print(\"Model file was not found... calling function to create it\")\n",
    "  #finalSVM = generateFile('svmModel', svmModel1) \n",
    "  "
   ]
  },
  {
   "cell_type": "code",
   "execution_count": null,
   "metadata": {},
   "outputs": [
    {
     "name": "stdout",
     "output_type": "stream",
     "text": [
      "Enter comment here...\n",
      "amazing\n",
      "10\n",
      "Enter comment here...\n",
      "good\n",
      "7\n",
      "Enter comment here...\n",
      "worst\n",
      "1\n"
     ]
    }
   ],
   "source": [
    "while True:\n",
    "  comment = input(\"Enter comment here...\\n\")\n",
    "  if comment == 'q':\n",
    "    break\n",
    "  comment = vectorizer.transform([comment])\n",
    "  rating = svmModel1.predict(comment)[0]\n",
    "  print(rating)"
   ]
  },
  {
   "cell_type": "markdown",
   "metadata": {},
   "source": [
    "\n",
    "# REFERENCES\n",
    "\n",
    "* https://towardsdatascience.com/svm-implementation-from-scratch-python-2db2fc52e5c2\n",
    "* https://towardsdatascience.com/vectorization-implementation-in-machine-learning-ca652920c55d\n",
    "* https://scikit-learn.org/stable/modules/generated/sklearn.svm.LinearSVC.html\n",
    "* https://machinelearningmastery.com/prepare-text-data-machine-learning-scikit-learn/\n",
    "* https://scikit-learn.org/stable/modules/preprocessing.html#preprocessing\n",
    "* https://www.dataquest.io/blog/machine-learning-python/\n"
   ]
  }
 ],
 "metadata": {
  "kernelspec": {
   "display_name": "Python 3",
   "language": "python",
   "name": "python3"
  },
  "language_info": {
   "codemirror_mode": {
    "name": "ipython",
    "version": 3
   },
   "file_extension": ".py",
   "mimetype": "text/x-python",
   "name": "python",
   "nbconvert_exporter": "python",
   "pygments_lexer": "ipython3",
   "version": "3.7.4"
  }
 },
 "nbformat": 4,
 "nbformat_minor": 4
}
